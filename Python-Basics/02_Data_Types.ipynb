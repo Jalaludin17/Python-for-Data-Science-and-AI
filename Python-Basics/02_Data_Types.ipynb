{
  "nbformat": 4,
  "nbformat_minor": 0,
  "metadata": {
    "colab": {
      "provenance": [],
      "authorship_tag": "ABX9TyNjNyryEViXcO10bqTkfvzs",
      "include_colab_link": true
    },
    "kernelspec": {
      "name": "python3",
      "display_name": "Python 3"
    },
    "language_info": {
      "name": "python"
    }
  },
  "cells": [
    {
      "cell_type": "markdown",
      "metadata": {
        "id": "view-in-github",
        "colab_type": "text"
      },
      "source": [
        "<a href=\"https://colab.research.google.com/github/Jalaludin17/Python-for-Data-Science-and-AI/blob/main/Python-Basics/02_Data_Types.ipynb\" target=\"_parent\"><img src=\"https://colab.research.google.com/assets/colab-badge.svg\" alt=\"Open In Colab\"/></a>"
      ]
    },
    {
      "cell_type": "code",
      "execution_count": 11,
      "metadata": {
        "colab": {
          "base_uri": "https://localhost:8080/"
        },
        "id": "zd3_UwvJH1em",
        "outputId": "399b74b1-7615-45b6-c0d8-319fb3e2e88e"
      },
      "outputs": [
        {
          "output_type": "stream",
          "name": "stdout",
          "text": [
            "this is a string\n",
            "a\n",
            "b\n",
            "text\n"
          ]
        }
      ],
      "source": [
        "#strings\n",
        "print('this is a string')\n",
        "print('a')\n",
        "print('b')\n",
        "print('text')"
      ]
    },
    {
      "cell_type": "code",
      "source": [
        "#integers\n",
        "print(3)\n",
        "#how many integer's data pyhton can handle\n",
        "print(1e308) #1*10^308"
      ],
      "metadata": {
        "colab": {
          "base_uri": "https://localhost:8080/"
        },
        "id": "KIkRkDYuIO3J",
        "outputId": "3eeef07e-9327-4d78-95b7-05ffed755950"
      },
      "execution_count": 2,
      "outputs": [
        {
          "output_type": "stream",
          "name": "stdout",
          "text": [
            "3\n",
            "1e+308\n"
          ]
        }
      ]
    },
    {
      "cell_type": "code",
      "source": [
        "#float/decimal\n",
        "print(3.142)"
      ],
      "metadata": {
        "colab": {
          "base_uri": "https://localhost:8080/"
        },
        "id": "YMi7pNmyIbuW",
        "outputId": "ec50fe54-bdb4-4f08-b596-e550fd7e3c45"
      },
      "execution_count": 4,
      "outputs": [
        {
          "output_type": "stream",
          "name": "stdout",
          "text": [
            "3.142\n"
          ]
        }
      ]
    },
    {
      "cell_type": "code",
      "source": [
        "#float/decimal\n",
        "print(1e309)"
      ],
      "metadata": {
        "colab": {
          "base_uri": "https://localhost:8080/"
        },
        "id": "fI5tw0y2IUWO",
        "outputId": "f2bc0329-85e5-4514-983c-cd855b1bb004"
      },
      "execution_count": 3,
      "outputs": [
        {
          "output_type": "stream",
          "name": "stdout",
          "text": [
            "inf\n"
          ]
        }
      ]
    },
    {
      "cell_type": "code",
      "source": [
        "#boolean\n",
        "print(True)\n",
        "print(False)"
      ],
      "metadata": {
        "colab": {
          "base_uri": "https://localhost:8080/"
        },
        "id": "aXHI-vU1Igxg",
        "outputId": "a64cc048-efa3-4863-f266-cf77d9c412ba"
      },
      "execution_count": 5,
      "outputs": [
        {
          "output_type": "stream",
          "name": "stdout",
          "text": [
            "True\n",
            "False\n"
          ]
        }
      ]
    },
    {
      "cell_type": "code",
      "source": [
        "#complex numbers\n",
        "print(2+3j)"
      ],
      "metadata": {
        "colab": {
          "base_uri": "https://localhost:8080/"
        },
        "id": "_x-4EQofInHo",
        "outputId": "c715f965-6889-4dc6-c85d-b94282e430be"
      },
      "execution_count": 6,
      "outputs": [
        {
          "output_type": "stream",
          "name": "stdout",
          "text": [
            "(2+3j)\n"
          ]
        }
      ]
    },
    {
      "cell_type": "markdown",
      "source": [
        "## 1.List\n",
        "\n",
        "> Definition: Ordered, mutable (changeable) collection of items.\n",
        "\n",
        ">>Syntax: my_list = [1, 2, 3, \"hello\"]\n",
        "\n",
        ">Key Points:\n",
        "\n",
        ">* Keeps items in order.\n",
        "\n",
        ">* Can store different data types.\n",
        "\n",
        ">* Allows duplicates.\n",
        "\n",
        ">* Mutable → can add, remove, or change elements.\n",
        "\n",
        "> Use case: When you need an ordered collection that can change."
      ],
      "metadata": {
        "id": "reXi6rdhJdJF"
      }
    },
    {
      "cell_type": "code",
      "source": [
        "#list\n",
        "print([1,2,3,4,5])\n",
        "print(type([1,2,3,4,5]))\n",
        "print(type(['jalaluddin','hassan','hussain']))"
      ],
      "metadata": {
        "colab": {
          "base_uri": "https://localhost:8080/"
        },
        "id": "oRoRFRlQIodX",
        "outputId": "d28ce627-b0c8-471c-eed3-67a6d24621ab"
      },
      "execution_count": 7,
      "outputs": [
        {
          "output_type": "stream",
          "name": "stdout",
          "text": [
            "[1, 2, 3, 4, 5]\n",
            "<class 'list'>\n",
            "<class 'list'>\n"
          ]
        }
      ]
    },
    {
      "cell_type": "markdown",
      "source": [
        "## 2. Tuple\n",
        "\n",
        "> Definition: Ordered, immutable (cannot be changed) collection of items.\n",
        "\n",
        ">> Syntax: my_tuple = (1, 2, 3, \"hello\")\n",
        "\n",
        "> Key Points:\n",
        "\n",
        ">* Keeps items in order.\n",
        "\n",
        ">* Can store different data types.\n",
        "\n",
        ">* Allows duplicates.\n",
        "\n",
        ">* Immutable → once created, you cannot add, remove, or change elements.\n",
        "\n",
        "> Use case: When you want data to remain constant (like coordinates, config values)."
      ],
      "metadata": {
        "id": "H2WiBNx7J8Yr"
      }
    },
    {
      "cell_type": "code",
      "source": [
        "#tuple\n",
        "print((1,2,3,4,5))\n",
        "print(type((1,2,3,4,5)))"
      ],
      "metadata": {
        "colab": {
          "base_uri": "https://localhost:8080/"
        },
        "id": "-xY1Oue7Isfh",
        "outputId": "c85b4875-3f7e-4e96-90ed-75951b8344b5"
      },
      "execution_count": 8,
      "outputs": [
        {
          "output_type": "stream",
          "name": "stdout",
          "text": [
            "(1, 2, 3, 4, 5)\n",
            "<class 'tuple'>\n"
          ]
        }
      ]
    },
    {
      "cell_type": "markdown",
      "source": [
        "## 3. Set\n",
        "\n",
        ".Definition: Unordered collection of unique elements.\n",
        "\n",
        ">>Syntax: my_set = {1, 2, 3, 4}\n",
        "\n",
        ">Key Points:\n",
        "\n",
        ">* Unordered → elements have no fixed position.\n",
        "\n",
        ">* Unique → automatically removes duplicates.\n",
        "\n",
        ">* Mutable → can add or remove elements.\n",
        "\n",
        ">* Does not support indexing or slicing (unlike lists/tuples).\n",
        "\n",
        ">* Very fast for membership tests (in operator).\n",
        "\n",
        ">Use case: When you need to store unique values, perform set operations (union, intersection, difference)."
      ],
      "metadata": {
        "id": "lsOcEuC9KV9M"
      }
    },
    {
      "cell_type": "code",
      "source": [
        "#Sets\n",
        "print({1,2,3,4,5})\n",
        "print(type({1,2,3,4,5}))"
      ],
      "metadata": {
        "colab": {
          "base_uri": "https://localhost:8080/"
        },
        "id": "xPOaO6DCIwKH",
        "outputId": "154989d1-d75c-4980-cda8-334c5e518208"
      },
      "execution_count": 9,
      "outputs": [
        {
          "output_type": "stream",
          "name": "stdout",
          "text": [
            "{1, 2, 3, 4, 5}\n",
            "<class 'set'>\n"
          ]
        }
      ]
    },
    {
      "cell_type": "markdown",
      "source": [
        "## 4. Dictionary\n",
        "\n",
        "> Definition: Unordered collection of key–value pairs.\n",
        "\n",
        ">>Syntax: my_dict = {\"name\": \"Ali\", \"age\": 25, \"city\": \"Karachi\"}\n",
        "\n",
        ">Key Points:\n",
        "\n",
        ">* Access items using keys (not index).\n",
        "\n",
        ">* Keys must be unique and immutable (string, number, tuple).\n",
        "\n",
        ">* Values can be any type and can repeat.\n",
        "\n",
        ">* Mutable → can add, remove, or update key-value pairs.\n",
        "\n",
        ">Use case: When you need a mapping relationship (like storing attributes of an object)"
      ],
      "metadata": {
        "id": "Lqt5dLUmKdP6"
      }
    },
    {
      "cell_type": "code",
      "source": [
        "#Dictionary\n",
        "print({'name':'jalaluddin','age':26})\n",
        "print(type({'name':'jalaluddin','age':26}))"
      ],
      "metadata": {
        "colab": {
          "base_uri": "https://localhost:8080/"
        },
        "id": "pIKeXmXiI06u",
        "outputId": "fd33d591-892e-4221-fe84-38fa6dab8083"
      },
      "execution_count": 10,
      "outputs": [
        {
          "output_type": "stream",
          "name": "stdout",
          "text": [
            "{'name': 'jalaluddin', 'age': 26}\n",
            "<class 'dict'>\n"
          ]
        }
      ]
    },
    {
      "cell_type": "code",
      "source": [],
      "metadata": {
        "id": "ExiS5E8lI5IU"
      },
      "execution_count": null,
      "outputs": []
    }
  ]
}