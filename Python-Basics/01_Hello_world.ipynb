{
  "nbformat": 4,
  "nbformat_minor": 0,
  "metadata": {
    "colab": {
      "provenance": [],
      "authorship_tag": "ABX9TyNq4p1ah98XqM767R2Mp3Sg",
      "include_colab_link": true
    },
    "kernelspec": {
      "name": "python3",
      "display_name": "Python 3"
    },
    "language_info": {
      "name": "python"
    }
  },
  "cells": [
    {
      "cell_type": "markdown",
      "metadata": {
        "id": "view-in-github",
        "colab_type": "text"
      },
      "source": [
        "<a href=\"https://colab.research.google.com/github/Jalaludin17/Python-for-Data-Science-and-AI/blob/main/Python-Basics/01_Hello_world.ipynb\" target=\"_parent\"><img src=\"https://colab.research.google.com/assets/colab-badge.svg\" alt=\"Open In Colab\"/></a>"
      ]
    },
    {
      "cell_type": "markdown",
      "source": [
        "### Print function"
      ],
      "metadata": {
        "id": "xXEpLMjmg8O0"
      }
    },
    {
      "cell_type": "code",
      "execution_count": 1,
      "metadata": {
        "colab": {
          "base_uri": "https://localhost:8080/"
        },
        "id": "zEgDfBovgulV",
        "outputId": "e2075179-060b-4987-ead4-61c241ed8d45"
      },
      "outputs": [
        {
          "output_type": "stream",
          "name": "stdout",
          "text": [
            "assalam o alaikum\n"
          ]
        }
      ],
      "source": [
        "print('assalam o alaikum')"
      ]
    },
    {
      "cell_type": "code",
      "source": [
        "print(123)"
      ],
      "metadata": {
        "colab": {
          "base_uri": "https://localhost:8080/"
        },
        "id": "ioxWkDnGiBCP",
        "outputId": "94c70264-48b8-4ad3-cd46-1ee66f9cfc8a"
      },
      "execution_count": 2,
      "outputs": [
        {
          "output_type": "stream",
          "name": "stdout",
          "text": [
            "123\n"
          ]
        }
      ]
    },
    {
      "cell_type": "code",
      "source": [
        "print(3.4567)"
      ],
      "metadata": {
        "colab": {
          "base_uri": "https://localhost:8080/"
        },
        "id": "_o_6zS-ZiD-H",
        "outputId": "f15a1598-34eb-4ef0-9b83-3fd044bdcbad"
      },
      "execution_count": 3,
      "outputs": [
        {
          "output_type": "stream",
          "name": "stdout",
          "text": [
            "3.4567\n"
          ]
        }
      ]
    },
    {
      "cell_type": "code",
      "source": [
        "print('ali','hassan','hussain')"
      ],
      "metadata": {
        "colab": {
          "base_uri": "https://localhost:8080/"
        },
        "id": "XnSQMyqchEsv",
        "outputId": "67220209-41f4-406e-c080-1eac9a719595"
      },
      "execution_count": 4,
      "outputs": [
        {
          "output_type": "stream",
          "name": "stdout",
          "text": [
            "ali hassan hussain\n"
          ]
        }
      ]
    },
    {
      "cell_type": "code",
      "source": [
        "print('ali','hassan','hussain',sep='/') #parameters"
      ],
      "metadata": {
        "colab": {
          "base_uri": "https://localhost:8080/"
        },
        "id": "U7pN18ImhHcp",
        "outputId": "b39ddc56-fd36-4037-9eb1-0ab1fdeffe59"
      },
      "execution_count": 5,
      "outputs": [
        {
          "output_type": "stream",
          "name": "stdout",
          "text": [
            "ali/hassan/hussain\n"
          ]
        }
      ]
    },
    {
      "cell_type": "code",
      "source": [
        "#Escape sequence '\\n'\n",
        "print('ali\\nhassan')\n",
        "print('ali','\\n','hassaan')"
      ],
      "metadata": {
        "colab": {
          "base_uri": "https://localhost:8080/"
        },
        "id": "oPen9fl2hKvK",
        "outputId": "07471ad3-f8de-495d-c995-da953f029d35"
      },
      "execution_count": 6,
      "outputs": [
        {
          "output_type": "stream",
          "name": "stdout",
          "text": [
            "ali\n",
            "hassan\n",
            "ali \n",
            " hassaan\n"
          ]
        }
      ]
    },
    {
      "cell_type": "code",
      "source": [
        "#custom print function as Print\n",
        "import sys\n",
        "\n",
        "def Print(*args, sep=' ', end='\\n'):\n",
        "    output = sep.join(str(arg) for arg in args)\n",
        "    sys.stdout.write(output + end)"
      ],
      "metadata": {
        "id": "WojRmGvehV_J"
      },
      "execution_count": 7,
      "outputs": []
    },
    {
      "cell_type": "code",
      "source": [
        "Print('ali', 'hussain')"
      ],
      "metadata": {
        "colab": {
          "base_uri": "https://localhost:8080/"
        },
        "id": "s4qO86wFiOR6",
        "outputId": "78e0170c-505a-42c6-a7ed-ecd6bbd2c4c1"
      },
      "execution_count": 9,
      "outputs": [
        {
          "output_type": "stream",
          "name": "stdout",
          "text": [
            "ali hussain\n"
          ]
        }
      ]
    }
  ]
}