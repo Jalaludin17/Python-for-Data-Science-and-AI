{
  "nbformat": 4,
  "nbformat_minor": 0,
  "metadata": {
    "colab": {
      "provenance": [],
      "include_colab_link": true
    },
    "kernelspec": {
      "name": "python3",
      "display_name": "Python 3"
    }
  },
  "cells": [
    {
      "cell_type": "markdown",
      "metadata": {
        "id": "view-in-github",
        "colab_type": "text"
      },
      "source": [
        "<a href=\"https://colab.research.google.com/github/Jalaludin17/Python-for-Data-Science-and-AI/blob/main/DSA%20in%20python/Queue_with_LL.ipynb\" target=\"_parent\"><img src=\"https://colab.research.google.com/assets/colab-badge.svg\" alt=\"Open In Colab\"/></a>"
      ]
    },
    {
      "cell_type": "markdown",
      "source": [
        "##stack use lifo and queue follow fifo"
      ],
      "metadata": {
        "id": "feg0-pUdY7pX"
      }
    },
    {
      "cell_type": "code",
      "metadata": {
        "id": "PurBULUa-0Ud"
      },
      "source": [
        "class Node:\n",
        "\n",
        "  def __init__(self,value):\n",
        "\n",
        "    self.data = value\n",
        "    self.next = None"
      ],
      "execution_count": null,
      "outputs": []
    },
    {
      "cell_type": "code",
      "metadata": {
        "id": "crm3gdWj_n8i"
      },
      "source": [
        "class Queue:\n",
        "\n",
        "  def __init__(self):\n",
        "    self.front = None #fornt of node\n",
        "    self.rear = None  #end of Node\n",
        "\n",
        "  #adding a value in queue\n",
        "  def enqueue(self,value):\n",
        "    new_node = Node(value)\n",
        "\n",
        "    if self.front == None:\n",
        "      self.front = new_node\n",
        "      self.rear = self.front\n",
        "\n",
        "    else:\n",
        "      self.rear.next = new_node #previous rear or back\n",
        "      self.rear = new_node #new rear or back\n",
        "\n",
        "  #Deleting a value from queue\n",
        "  def dequeue(self):\n",
        "\n",
        "    if self.front == None:\n",
        "      return \"Queue empty\"\n",
        "    else:\n",
        "      self.front = self.front.next\n",
        "\n",
        "  def is_empty(self):\n",
        "    return self.front == None\n",
        "\n",
        "  def front_item(self):\n",
        "    if (not self.is_empty()):\n",
        "      return self.front.data\n",
        "    else:\n",
        "      return \"Empty queue\"\n",
        "\n",
        "  def rear_item(self):\n",
        "    if (not self.is_empty()):\n",
        "      return self.rear.data\n",
        "    else:\n",
        "      return \"Empty queue\"\n",
        "\n",
        "  def traverse(self):\n",
        "\n",
        "    temp = self.front\n",
        "    while temp is not None:\n",
        "      print(temp.data,end=' ')\n",
        "      temp = temp.next"
      ],
      "execution_count": 20,
      "outputs": []
    },
    {
      "cell_type": "code",
      "metadata": {
        "id": "It7a1H5kBfbF"
      },
      "source": [
        "q = Queue()"
      ],
      "execution_count": 21,
      "outputs": []
    },
    {
      "cell_type": "code",
      "metadata": {
        "id": "tsInv6hyBhUn"
      },
      "source": [
        "q.enqueue(3)\n",
        "q.enqueue(4)\n",
        "q.enqueue(5)\n",
        "q.enqueue(7)"
      ],
      "execution_count": 29,
      "outputs": []
    },
    {
      "cell_type": "code",
      "metadata": {
        "id": "ImvsCMX5Bm7S",
        "colab": {
          "base_uri": "https://localhost:8080/"
        },
        "outputId": "cc7626d0-fadb-4896-db11-947e761df186"
      },
      "source": [
        "q.traverse()"
      ],
      "execution_count": 30,
      "outputs": [
        {
          "output_type": "stream",
          "name": "stdout",
          "text": [
            "5 7 3 4 5 7 "
          ]
        }
      ]
    },
    {
      "cell_type": "code",
      "metadata": {
        "id": "cDKTXJyUBpD9"
      },
      "source": [
        "q.dequeue()"
      ],
      "execution_count": 26,
      "outputs": []
    },
    {
      "cell_type": "code",
      "metadata": {
        "id": "w9ncP6MlB0KK"
      },
      "source": [
        "q.enqueue(8)"
      ],
      "execution_count": null,
      "outputs": []
    },
    {
      "cell_type": "code",
      "metadata": {
        "colab": {
          "base_uri": "https://localhost:8080/"
        },
        "id": "p_WrD96IB4oa",
        "outputId": "c08f14c5-330b-4012-c27a-7a482d867ecb"
      },
      "source": [
        "q.is_empty()"
      ],
      "execution_count": null,
      "outputs": [
        {
          "output_type": "execute_result",
          "data": {
            "text/plain": [
              "False"
            ]
          },
          "metadata": {
            "tags": []
          },
          "execution_count": 48
        }
      ]
    },
    {
      "cell_type": "code",
      "metadata": {
        "colab": {
          "base_uri": "https://localhost:8080/"
        },
        "id": "3HN0CH3IEI3K",
        "outputId": "631baeda-fe47-4cc8-9b20-6206152e9bcb"
      },
      "source": [
        "q.front_item()"
      ],
      "execution_count": null,
      "outputs": [
        {
          "output_type": "execute_result",
          "data": {
            "text/plain": [
              "4"
            ]
          },
          "metadata": {
            "tags": []
          },
          "execution_count": 53
        }
      ]
    },
    {
      "cell_type": "code",
      "metadata": {
        "colab": {
          "base_uri": "https://localhost:8080/"
        },
        "id": "WxhnIMn6ELpY",
        "outputId": "54dbd4a1-5aa5-4e4d-f20a-4fbb3d11714f"
      },
      "source": [
        "q.rear_item()"
      ],
      "execution_count": null,
      "outputs": [
        {
          "output_type": "execute_result",
          "data": {
            "text/plain": [
              "7"
            ]
          },
          "metadata": {
            "tags": []
          },
          "execution_count": 52
        }
      ]
    },
    {
      "cell_type": "code",
      "metadata": {
        "id": "yzG_VbWxEXcH"
      },
      "source": [
        "q.dequeue()"
      ],
      "execution_count": null,
      "outputs": []
    },
    {
      "cell_type": "markdown",
      "source": [
        "## balanced expression problem using a stack"
      ],
      "metadata": {
        "id": "jrDsznU1ui-Y"
      }
    },
    {
      "cell_type": "code",
      "source": [
        "class Node:\n",
        "  def __init__(self,value):\n",
        "    self.data=value\n",
        "    self.next=None"
      ],
      "metadata": {
        "id": "F2hS9DoOTRcK"
      },
      "execution_count": 12,
      "outputs": []
    },
    {
      "cell_type": "code",
      "source": [
        "class Stack:\n",
        "#contructor\n",
        "  def __init__(self):\n",
        "    self.top=None\n",
        "\n",
        "#push\n",
        "  def push(self, value):\n",
        "    new_node=Node(value)\n",
        "    new_node.next=self.top\n",
        "    self.top=new_node\n",
        "    return \"The element has been successfully inserted\"\n",
        "\n",
        "#pop\n",
        "  def pop(self):\n",
        "    if self.top==None:\n",
        "      return \"Stack is empty\"\n",
        "    else:\n",
        "      data=self.top.data\n",
        "      self.top=self.top.next\n",
        "      return data\n",
        "\n",
        "#is_empty\n",
        "  def is_empty(self):\n",
        "    return self.top==None\n",
        "\n",
        "#top value\n",
        "  def peek(self):\n",
        "    if self.top==None:\n",
        "      return \"Stack is empty\"\n",
        "    else:\n",
        "      return self.top.data\n",
        "\n",
        "#print\n",
        "  def traverse(self):\n",
        "    curr=self.top\n",
        "    while curr is not None:\n",
        "      print(curr.data, end=' ')\n",
        "      curr=curr.next\n",
        "\n",
        "#size\n",
        "  def size(self):\n",
        "    curr=self.top\n",
        "    count=0\n",
        "    while curr is not None:\n",
        "      count+=1\n",
        "      curr=curr.next\n",
        "    return count"
      ],
      "metadata": {
        "id": "XrNSJ58ypVB3"
      },
      "execution_count": 13,
      "outputs": []
    },
    {
      "cell_type": "code",
      "metadata": {
        "id": "q7wOxuqpEgoD"
      },
      "source": [
        "def check_balanced_parenthesis(s):\n",
        "    stk = Stack()\n",
        "    for item in s:\n",
        "        if item == '(':\n",
        "            stk.push(item)\n",
        "        elif item == '{':\n",
        "            stk.push(item)\n",
        "        elif item == '[':\n",
        "            stk.push(item)\n",
        "        elif item == ')':\n",
        "            if stk.peek() == '(':\n",
        "                stk.pop()\n",
        "            else:\n",
        "                return False\n",
        "        elif item == '}':\n",
        "            if stk.peek() == '{':\n",
        "                stk.pop()\n",
        "            else:\n",
        "                return False\n",
        "        elif item == ']':\n",
        "            if stk.peek() == '[':\n",
        "                stk.pop()\n",
        "            else:\n",
        "                return False\n",
        "        else:\n",
        "            continue\n",
        "\n",
        "    return stk.is_empty()\n",
        "\n",
        "s=\"{[(a+b) + (c+d)]}\"\n",
        "print(check_balanced_parenthesis(s))\n"
      ],
      "execution_count": null,
      "outputs": []
    },
    {
      "cell_type": "markdown",
      "source": [
        "## Problem no 2 : Queue using two stacks"
      ],
      "metadata": {
        "id": "fRX2_LWg6eGQ"
      }
    },
    {
      "cell_type": "code",
      "source": [
        "# 2 -> 4 -> 6 -> 8  stack add at top and remove from top\n",
        "class QueueUsingTwoStacks:\n",
        "    def __init__(self):\n",
        "        self.s1 = Stack()  # rear stack\n",
        "        self.s2 = Stack()  # front stack\n",
        "\n",
        "    def enqueue(self, value):\n",
        "        self.s1.push(value)\n",
        "\n",
        "    def dequeue(self):\n",
        "        if self.s2.is_empty():\n",
        "            while not self.s1.is_empty():\n",
        "                self.s2.push(self.s1.pop())\n",
        "        return self.s2.pop()\n",
        "\n",
        "    def print_queue(self):\n",
        "    # Step 1: Collect elements from s2 in reverse order\n",
        "      s2_list = []\n",
        "      curr = self.s2.top\n",
        "      while curr is not None:\n",
        "          s2_list.insert(0, curr.data)  # insert at front to reverse\n",
        "          curr = curr.next\n",
        "\n",
        "      # Step 2: Collect elements from s1 in normal order, but reverse at end\n",
        "      s1_list = []\n",
        "      curr = self.s1.top\n",
        "      while curr is not None:\n",
        "          s1_list.append(curr.data)\n",
        "          curr = curr.next\n",
        "      s1_list.reverse()  #now bottom element comes first\n",
        "\n",
        "      # Step 3: Combine s2 front + s1 rear\n",
        "      print(*(s2_list + s1_list))"
      ],
      "metadata": {
        "id": "XT_CkQR06kYT"
      },
      "execution_count": 32,
      "outputs": []
    },
    {
      "cell_type": "code",
      "source": [
        "Q=QueueUsingTwoStacks()\n",
        "Q.enqueue(2)\n",
        "Q.enqueue(4)\n",
        "Q.enqueue(6)\n",
        "Q.enqueue(8)\n",
        "Q.print_queue()"
      ],
      "metadata": {
        "colab": {
          "base_uri": "https://localhost:8080/"
        },
        "id": "NiwbbSdLTbGT",
        "outputId": "591cd733-5cc9-426c-b3f4-e22159f31ad3"
      },
      "execution_count": 33,
      "outputs": [
        {
          "output_type": "stream",
          "name": "stdout",
          "text": [
            "2 4 6 8\n"
          ]
        }
      ]
    },
    {
      "cell_type": "code",
      "source": [
        "Q.dequeue()\n",
        "Q.print_queue()"
      ],
      "metadata": {
        "colab": {
          "base_uri": "https://localhost:8080/"
        },
        "id": "KMdg-kDnVJp-",
        "outputId": "9214cfe1-91e3-4935-a207-f0ac66b3d50a"
      },
      "execution_count": 35,
      "outputs": [
        {
          "output_type": "stream",
          "name": "stdout",
          "text": [
            "8 6\n"
          ]
        }
      ]
    },
    {
      "cell_type": "markdown",
      "source": [
        "## Problem no 3 : Queue using two list"
      ],
      "metadata": {
        "id": "0j4RPfb0Gb59"
      }
    },
    {
      "cell_type": "code",
      "source": [
        "class QueueUsingTwoList:\n",
        "    def __init__(self):\n",
        "        self.l1 = []  # Main stack for enqueue\n",
        "        self.l2 = []  # Helper stack for dequeue\n",
        "\n",
        "    def enqueue(self, value):\n",
        "        self.l1.append(value)\n",
        "\n",
        "    def dequeue(self):\n",
        "        if not self.l2:  # If s2 is empty, move all items from s1\n",
        "            while self.l1:\n",
        "                self.l2.append(self.l1.pop())\n",
        "        if not self.l2:\n",
        "            return None  # Queue is empty\n",
        "        return self.l2.pop()\n",
        "\n",
        "    def print_queue(self):\n",
        "        print(self.l1)"
      ],
      "metadata": {
        "id": "IZ5DYENZExuc"
      },
      "execution_count": 43,
      "outputs": []
    },
    {
      "cell_type": "code",
      "source": [
        "# Example\n",
        "q = QueueUsingTwoList()\n",
        "q.enqueue(1)\n",
        "q.enqueue(2)\n",
        "q.enqueue(3)\n",
        "q.print_queue()"
      ],
      "metadata": {
        "colab": {
          "base_uri": "https://localhost:8080/"
        },
        "id": "fteXP1YAYKng",
        "outputId": "f6cf7614-dde2-42ff-a3b0-cdffde802057"
      },
      "execution_count": 44,
      "outputs": [
        {
          "output_type": "stream",
          "name": "stdout",
          "text": [
            "[1, 2, 3]\n"
          ]
        }
      ]
    },
    {
      "cell_type": "code",
      "source": [
        "print(q.dequeue())  # 1\n",
        "print(q.dequeue())  # 2\n",
        "print(q.dequeue())  # 3"
      ],
      "metadata": {
        "colab": {
          "base_uri": "https://localhost:8080/"
        },
        "id": "21ivx6X6Yu7_",
        "outputId": "77c39102-477d-4761-e613-3cd18e1a5bb1"
      },
      "execution_count": 45,
      "outputs": [
        {
          "output_type": "stream",
          "name": "stdout",
          "text": [
            "1\n",
            "2\n",
            "3\n"
          ]
        }
      ]
    },
    {
      "cell_type": "code",
      "source": [],
      "metadata": {
        "id": "G1H8JwmRYu3R"
      },
      "execution_count": null,
      "outputs": []
    }
  ]
}